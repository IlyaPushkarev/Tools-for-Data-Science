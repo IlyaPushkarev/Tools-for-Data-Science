{
 "cells": [
  {
   "cell_type": "markdown",
   "id": "7df416c6-acc5-41ea-a621-8acd5cd1c5cf",
   "metadata": {},
   "source": [
    "#  Data Science Tools and Ecosystem"
   ]
  },
  {
   "cell_type": "markdown",
   "id": "05b56593-9511-4859-9c21-1abb1135043c",
   "metadata": {},
   "source": [
    "In this notebook, Data Science Tools and Ecosystem are summarized."
   ]
  },
  {
   "cell_type": "markdown",
   "id": "3b7c8090-c0f6-4f9b-9690-e42f1aac9404",
   "metadata": {},
   "source": [
    "**Objectives:**\n",
    "* List popular languages for Data Science;\n",
    "* List commonly used libraries for Data Science;\n",
    "* List open source development enviroment in Data Science;\n",
    "* Some examples of code in Python."
   ]
  },
  {
   "cell_type": "markdown",
   "id": "7a0b1e5b-9c1a-4149-b2bd-84bfbe645966",
   "metadata": {},
   "source": [
    "Some of the popular languages that Data Scientists use are:\n",
    "1. Python\n",
    "2. R\n",
    "3. SQL\n",
    "4. Java\n",
    "5. Scala\n",
    "6. Julia\n",
    "7. JavaScript\n",
    "\n",
    "Some of the commonly used libraries used by Data Scientists include:\n",
    "1. Pandas\n",
    "2. NumPy\n",
    "3. Caret\n",
    "4. ggplot2\n",
    "5. Matplotlib\n",
    "6. Scikit-learn\n",
    "7. PyTorch\n"
   ]
  },
  {
   "cell_type": "markdown",
   "id": "c5f4e27a-d8c9-4105-8eb5-e52b81cb7743",
   "metadata": {},
   "source": [
    "|Data Science Tools|\n",
    "|---|\n",
    "|Jupyter Notebooks|\n",
    "|Jupyter Lab|\n",
    "|RStudio|"
   ]
  },
  {
   "cell_type": "markdown",
   "id": "698ff5c2-45ef-4dc3-a6d6-b69f63d7c477",
   "metadata": {},
   "source": [
    "### Below are a few examples of evaluating arithmetic expressions in Python."
   ]
  },
  {
   "cell_type": "code",
   "execution_count": 14,
   "id": "d737baba-d004-4967-af63-4f9271d16cf3",
   "metadata": {},
   "outputs": [
    {
     "data": {
      "text/plain": [
       "17"
      ]
     },
     "execution_count": 14,
     "metadata": {},
     "output_type": "execute_result"
    }
   ],
   "source": [
    "# This a simple arithmetic expression to mutiply then add integers.\n",
    "(3*4)+5"
   ]
  },
  {
   "cell_type": "code",
   "execution_count": 16,
   "id": "4c6862d9-b8ec-4a65-af90-8416cb6b3858",
   "metadata": {},
   "outputs": [
    {
     "data": {
      "text/plain": [
       "3.3333333333333335"
      ]
     },
     "execution_count": 16,
     "metadata": {},
     "output_type": "execute_result"
    }
   ],
   "source": [
    "# This will convert 200 minutes to hours by diving by 60.\n",
    "200/60"
   ]
  },
  {
   "cell_type": "code",
   "execution_count": 22,
   "id": "e32de365-a837-4790-a810-323ef198cbb5",
   "metadata": {},
   "outputs": [
    {
     "data": {
      "text/plain": [
       "'03:20'"
      ]
     },
     "execution_count": 22,
     "metadata": {},
     "output_type": "execute_result"
    }
   ],
   "source": [
    "import pandas as pd\n",
    "pd.to_datetime(200, unit='m').strftime('%H:%M')"
   ]
  },
  {
   "cell_type": "markdown",
   "id": "f24bfd64-7860-4865-aec1-1ebce12799d6",
   "metadata": {},
   "source": [
    "## Author\n",
    "Pushkarev Ilya "
   ]
  }
 ],
 "metadata": {
  "kernelspec": {
   "display_name": "Python 3 (ipykernel)",
   "language": "python",
   "name": "python3"
  },
  "language_info": {
   "codemirror_mode": {
    "name": "ipython",
    "version": 3
   },
   "file_extension": ".py",
   "mimetype": "text/x-python",
   "name": "python",
   "nbconvert_exporter": "python",
   "pygments_lexer": "ipython3",
   "version": "3.12.4"
  }
 },
 "nbformat": 4,
 "nbformat_minor": 5
}
